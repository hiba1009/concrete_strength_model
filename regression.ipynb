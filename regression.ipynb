{
 "cells": [
  {
   "cell_type": "code",
   "execution_count": 2,
   "metadata": {
    "colab": {
     "background_save": true
    },
    "executionInfo": {
     "elapsed": 35,
     "status": "aborted",
     "timestamp": 1732216429543,
     "user": {
      "displayName": "Debbab hiba",
      "userId": "08091179925701170355"
     },
     "user_tz": -60
    },
    "id": "nzf8IX4oo7eR"
   },
   "outputs": [
    {
     "name": "stdout",
     "output_type": "stream",
     "text": [
      "<class 'pandas.core.frame.DataFrame'>\n"
     ]
    }
   ],
   "source": [
    "   import pandas as pd\n",
    "   file_path = \"concrete_data.csv\"\n",
    "   mydata = pd.read_csv(file_path)\n",
    "   print(type(mydata))"
   ]
  },
  {
   "cell_type": "code",
   "execution_count": 3,
   "metadata": {
    "colab": {
     "background_save": true
    },
    "executionInfo": {
     "elapsed": 35,
     "status": "aborted",
     "timestamp": 1732216429543,
     "user": {
      "displayName": "Debbab hiba",
      "userId": "08091179925701170355"
     },
     "user_tz": -60
    },
    "id": "37JAcJiValWV"
   },
   "outputs": [
    {
     "name": "stdout",
     "output_type": "stream",
     "text": [
      "<class 'pandas.core.frame.DataFrame'>\n",
      "RangeIndex: 1030 entries, 0 to 1029\n",
      "Data columns (total 9 columns):\n",
      " #   Column                         Non-Null Count  Dtype  \n",
      "---  ------                         --------------  -----  \n",
      " 0   cement                         1030 non-null   float64\n",
      " 1   blast_furnace_slag             1030 non-null   float64\n",
      " 2   fly_ash                        1030 non-null   float64\n",
      " 3   water                          1030 non-null   float64\n",
      " 4   superplasticizer               1030 non-null   float64\n",
      " 5   coarse_aggregate               1030 non-null   float64\n",
      " 6   fine_aggregate                 1030 non-null   float64\n",
      " 7   age                            1030 non-null   int64  \n",
      " 8   concrete_compressive_strength  1030 non-null   float64\n",
      "dtypes: float64(8), int64(1)\n",
      "memory usage: 72.6 KB\n"
     ]
    }
   ],
   "source": [
    "mydata.info( )"
   ]
  },
  {
   "cell_type": "code",
   "execution_count": 4,
   "metadata": {
    "colab": {
     "background_save": true
    },
    "executionInfo": {
     "elapsed": 35,
     "status": "aborted",
     "timestamp": 1732216429544,
     "user": {
      "displayName": "Debbab hiba",
      "userId": "08091179925701170355"
     },
     "user_tz": -60
    },
    "id": "opXxOp8rUoNA"
   },
   "outputs": [
    {
     "data": {
      "text/html": [
       "<div>\n",
       "<style scoped>\n",
       "    .dataframe tbody tr th:only-of-type {\n",
       "        vertical-align: middle;\n",
       "    }\n",
       "\n",
       "    .dataframe tbody tr th {\n",
       "        vertical-align: top;\n",
       "    }\n",
       "\n",
       "    .dataframe thead th {\n",
       "        text-align: right;\n",
       "    }\n",
       "</style>\n",
       "<table border=\"1\" class=\"dataframe\">\n",
       "  <thead>\n",
       "    <tr style=\"text-align: right;\">\n",
       "      <th></th>\n",
       "      <th>cement</th>\n",
       "      <th>blast_furnace_slag</th>\n",
       "      <th>fly_ash</th>\n",
       "      <th>water</th>\n",
       "      <th>superplasticizer</th>\n",
       "      <th>coarse_aggregate</th>\n",
       "      <th>fine_aggregate</th>\n",
       "      <th>age</th>\n",
       "      <th>concrete_compressive_strength</th>\n",
       "    </tr>\n",
       "  </thead>\n",
       "  <tbody>\n",
       "    <tr>\n",
       "      <th>0</th>\n",
       "      <td>540.0</td>\n",
       "      <td>0.0</td>\n",
       "      <td>0.0</td>\n",
       "      <td>162.0</td>\n",
       "      <td>2.5</td>\n",
       "      <td>1040.0</td>\n",
       "      <td>676.0</td>\n",
       "      <td>28</td>\n",
       "      <td>79.99</td>\n",
       "    </tr>\n",
       "    <tr>\n",
       "      <th>1</th>\n",
       "      <td>540.0</td>\n",
       "      <td>0.0</td>\n",
       "      <td>0.0</td>\n",
       "      <td>162.0</td>\n",
       "      <td>2.5</td>\n",
       "      <td>1055.0</td>\n",
       "      <td>676.0</td>\n",
       "      <td>28</td>\n",
       "      <td>61.89</td>\n",
       "    </tr>\n",
       "    <tr>\n",
       "      <th>2</th>\n",
       "      <td>332.5</td>\n",
       "      <td>142.5</td>\n",
       "      <td>0.0</td>\n",
       "      <td>228.0</td>\n",
       "      <td>0.0</td>\n",
       "      <td>932.0</td>\n",
       "      <td>594.0</td>\n",
       "      <td>270</td>\n",
       "      <td>40.27</td>\n",
       "    </tr>\n",
       "    <tr>\n",
       "      <th>3</th>\n",
       "      <td>332.5</td>\n",
       "      <td>142.5</td>\n",
       "      <td>0.0</td>\n",
       "      <td>228.0</td>\n",
       "      <td>0.0</td>\n",
       "      <td>932.0</td>\n",
       "      <td>594.0</td>\n",
       "      <td>365</td>\n",
       "      <td>41.05</td>\n",
       "    </tr>\n",
       "    <tr>\n",
       "      <th>4</th>\n",
       "      <td>198.6</td>\n",
       "      <td>132.4</td>\n",
       "      <td>0.0</td>\n",
       "      <td>192.0</td>\n",
       "      <td>0.0</td>\n",
       "      <td>978.4</td>\n",
       "      <td>825.5</td>\n",
       "      <td>360</td>\n",
       "      <td>44.30</td>\n",
       "    </tr>\n",
       "  </tbody>\n",
       "</table>\n",
       "</div>"
      ],
      "text/plain": [
       "   cement  blast_furnace_slag  fly_ash  water  superplasticizer  \\\n",
       "0   540.0                 0.0      0.0  162.0               2.5   \n",
       "1   540.0                 0.0      0.0  162.0               2.5   \n",
       "2   332.5               142.5      0.0  228.0               0.0   \n",
       "3   332.5               142.5      0.0  228.0               0.0   \n",
       "4   198.6               132.4      0.0  192.0               0.0   \n",
       "\n",
       "   coarse_aggregate  fine_aggregate   age  concrete_compressive_strength  \n",
       "0            1040.0            676.0   28                          79.99  \n",
       "1            1055.0            676.0   28                          61.89  \n",
       "2             932.0            594.0  270                          40.27  \n",
       "3             932.0            594.0  365                          41.05  \n",
       "4             978.4            825.5  360                          44.30  "
      ]
     },
     "execution_count": 4,
     "metadata": {},
     "output_type": "execute_result"
    }
   ],
   "source": [
    "mydata. head(5)"
   ]
  },
  {
   "cell_type": "code",
   "execution_count": 5,
   "metadata": {
    "colab": {
     "background_save": true
    },
    "executionInfo": {
     "elapsed": 34,
     "status": "aborted",
     "timestamp": 1732216429544,
     "user": {
      "displayName": "Debbab hiba",
      "userId": "08091179925701170355"
     },
     "user_tz": -60
    },
    "id": "nKVSSBWBI2CE"
   },
   "outputs": [
    {
     "data": {
      "text/plain": [
       "cement                           0\n",
       "blast_furnace_slag               0\n",
       "fly_ash                          0\n",
       "water                            0\n",
       "superplasticizer                 0\n",
       "coarse_aggregate                 0\n",
       "fine_aggregate                   0\n",
       "age                              0\n",
       "concrete_compressive_strength    0\n",
       "dtype: int64"
      ]
     },
     "execution_count": 5,
     "metadata": {},
     "output_type": "execute_result"
    }
   ],
   "source": [
    "\n",
    "mydata.isnull().sum()"
   ]
  },
  {
   "cell_type": "code",
   "execution_count": 6,
   "metadata": {
    "colab": {
     "background_save": true
    },
    "executionInfo": {
     "elapsed": 35,
     "status": "aborted",
     "timestamp": 1732216429545,
     "user": {
      "displayName": "Debbab hiba",
      "userId": "08091179925701170355"
     },
     "user_tz": -60
    },
    "id": "yCRQiF_bJV6v"
   },
   "outputs": [
    {
     "data": {
      "text/plain": [
       "cement                           float64\n",
       "blast_furnace_slag               float64\n",
       "fly_ash                          float64\n",
       "water                            float64\n",
       "superplasticizer                 float64\n",
       "coarse_aggregate                 float64\n",
       "fine_aggregate                   float64\n",
       "age                                int64\n",
       "concrete_compressive_strength    float64\n",
       "dtype: object"
      ]
     },
     "execution_count": 6,
     "metadata": {},
     "output_type": "execute_result"
    }
   ],
   "source": [
    "mydata.dtypes"
   ]
  },
  {
   "cell_type": "code",
   "execution_count": 7,
   "metadata": {
    "colab": {
     "background_save": true
    },
    "executionInfo": {
     "elapsed": 34,
     "status": "aborted",
     "timestamp": 1732216429546,
     "user": {
      "displayName": "Debbab hiba",
      "userId": "08091179925701170355"
     },
     "user_tz": -60
    },
    "id": "FXaulaFJjnaI"
   },
   "outputs": [
    {
     "data": {
      "text/html": [
       "<div>\n",
       "<style scoped>\n",
       "    .dataframe tbody tr th:only-of-type {\n",
       "        vertical-align: middle;\n",
       "    }\n",
       "\n",
       "    .dataframe tbody tr th {\n",
       "        vertical-align: top;\n",
       "    }\n",
       "\n",
       "    .dataframe thead th {\n",
       "        text-align: right;\n",
       "    }\n",
       "</style>\n",
       "<table border=\"1\" class=\"dataframe\">\n",
       "  <thead>\n",
       "    <tr style=\"text-align: right;\">\n",
       "      <th></th>\n",
       "      <th>cement</th>\n",
       "      <th>blast_furnace_slag</th>\n",
       "      <th>fly_ash</th>\n",
       "      <th>water</th>\n",
       "      <th>superplasticizer</th>\n",
       "      <th>coarse_aggregate</th>\n",
       "      <th>fine_aggregate</th>\n",
       "      <th>age</th>\n",
       "      <th>concrete_compressive_strength</th>\n",
       "    </tr>\n",
       "  </thead>\n",
       "  <tbody>\n",
       "    <tr>\n",
       "      <th>count</th>\n",
       "      <td>1030.000000</td>\n",
       "      <td>1030.000000</td>\n",
       "      <td>1030.000000</td>\n",
       "      <td>1030.000000</td>\n",
       "      <td>1030.000000</td>\n",
       "      <td>1030.000000</td>\n",
       "      <td>1030.000000</td>\n",
       "      <td>1030.000000</td>\n",
       "      <td>1030.000000</td>\n",
       "    </tr>\n",
       "    <tr>\n",
       "      <th>mean</th>\n",
       "      <td>281.167864</td>\n",
       "      <td>73.895825</td>\n",
       "      <td>54.188350</td>\n",
       "      <td>181.567282</td>\n",
       "      <td>6.204660</td>\n",
       "      <td>972.918932</td>\n",
       "      <td>773.580485</td>\n",
       "      <td>45.662136</td>\n",
       "      <td>35.817961</td>\n",
       "    </tr>\n",
       "    <tr>\n",
       "      <th>std</th>\n",
       "      <td>104.506364</td>\n",
       "      <td>86.279342</td>\n",
       "      <td>63.997004</td>\n",
       "      <td>21.354219</td>\n",
       "      <td>5.973841</td>\n",
       "      <td>77.753954</td>\n",
       "      <td>80.175980</td>\n",
       "      <td>63.169912</td>\n",
       "      <td>16.705742</td>\n",
       "    </tr>\n",
       "    <tr>\n",
       "      <th>min</th>\n",
       "      <td>102.000000</td>\n",
       "      <td>0.000000</td>\n",
       "      <td>0.000000</td>\n",
       "      <td>121.800000</td>\n",
       "      <td>0.000000</td>\n",
       "      <td>801.000000</td>\n",
       "      <td>594.000000</td>\n",
       "      <td>1.000000</td>\n",
       "      <td>2.330000</td>\n",
       "    </tr>\n",
       "    <tr>\n",
       "      <th>25%</th>\n",
       "      <td>192.375000</td>\n",
       "      <td>0.000000</td>\n",
       "      <td>0.000000</td>\n",
       "      <td>164.900000</td>\n",
       "      <td>0.000000</td>\n",
       "      <td>932.000000</td>\n",
       "      <td>730.950000</td>\n",
       "      <td>7.000000</td>\n",
       "      <td>23.710000</td>\n",
       "    </tr>\n",
       "    <tr>\n",
       "      <th>50%</th>\n",
       "      <td>272.900000</td>\n",
       "      <td>22.000000</td>\n",
       "      <td>0.000000</td>\n",
       "      <td>185.000000</td>\n",
       "      <td>6.400000</td>\n",
       "      <td>968.000000</td>\n",
       "      <td>779.500000</td>\n",
       "      <td>28.000000</td>\n",
       "      <td>34.445000</td>\n",
       "    </tr>\n",
       "    <tr>\n",
       "      <th>75%</th>\n",
       "      <td>350.000000</td>\n",
       "      <td>142.950000</td>\n",
       "      <td>118.300000</td>\n",
       "      <td>192.000000</td>\n",
       "      <td>10.200000</td>\n",
       "      <td>1029.400000</td>\n",
       "      <td>824.000000</td>\n",
       "      <td>56.000000</td>\n",
       "      <td>46.135000</td>\n",
       "    </tr>\n",
       "    <tr>\n",
       "      <th>max</th>\n",
       "      <td>540.000000</td>\n",
       "      <td>359.400000</td>\n",
       "      <td>200.100000</td>\n",
       "      <td>247.000000</td>\n",
       "      <td>32.200000</td>\n",
       "      <td>1145.000000</td>\n",
       "      <td>992.600000</td>\n",
       "      <td>365.000000</td>\n",
       "      <td>82.600000</td>\n",
       "    </tr>\n",
       "  </tbody>\n",
       "</table>\n",
       "</div>"
      ],
      "text/plain": [
       "            cement  blast_furnace_slag      fly_ash        water  \\\n",
       "count  1030.000000         1030.000000  1030.000000  1030.000000   \n",
       "mean    281.167864           73.895825    54.188350   181.567282   \n",
       "std     104.506364           86.279342    63.997004    21.354219   \n",
       "min     102.000000            0.000000     0.000000   121.800000   \n",
       "25%     192.375000            0.000000     0.000000   164.900000   \n",
       "50%     272.900000           22.000000     0.000000   185.000000   \n",
       "75%     350.000000          142.950000   118.300000   192.000000   \n",
       "max     540.000000          359.400000   200.100000   247.000000   \n",
       "\n",
       "       superplasticizer  coarse_aggregate  fine_aggregate           age  \\\n",
       "count       1030.000000       1030.000000      1030.000000  1030.000000   \n",
       "mean           6.204660        972.918932       773.580485    45.662136   \n",
       "std            5.973841         77.753954        80.175980    63.169912   \n",
       "min            0.000000        801.000000       594.000000     1.000000   \n",
       "25%            0.000000        932.000000       730.950000     7.000000   \n",
       "50%            6.400000        968.000000       779.500000    28.000000   \n",
       "75%           10.200000       1029.400000       824.000000    56.000000   \n",
       "max           32.200000       1145.000000       992.600000   365.000000   \n",
       "\n",
       "       concrete_compressive_strength  \n",
       "count                    1030.000000  \n",
       "mean                       35.817961  \n",
       "std                        16.705742  \n",
       "min                         2.330000  \n",
       "25%                        23.710000  \n",
       "50%                        34.445000  \n",
       "75%                        46.135000  \n",
       "max                        82.600000  "
      ]
     },
     "execution_count": 7,
     "metadata": {},
     "output_type": "execute_result"
    }
   ],
   "source": [
    "mydata.describe()"
   ]
  },
  {
   "cell_type": "code",
   "execution_count": 8,
   "metadata": {
    "colab": {
     "background_save": true
    },
    "executionInfo": {
     "elapsed": 34,
     "status": "aborted",
     "timestamp": 1732216429546,
     "user": {
      "displayName": "Debbab hiba",
      "userId": "08091179925701170355"
     },
     "user_tz": -60
    },
    "id": "SdL_yaWyk3iM"
   },
   "outputs": [
    {
     "data": {
      "image/png": "[encoded data removed]",
      "text/plain": [
       "<Figure size 2500x2000 with 9 Axes>"
      ]
     },
     "metadata": {},
     "output_type": "display_data"
    }
   ],
   "source": [
    "import matplotlib.pyplot as plt\n",
    "mydata.hist(bins=50, figsize=(25,20))\n",
    "plt.show()"
   ]
  },
  {
   "cell_type": "code",
   "execution_count": 9,
   "metadata": {
    "colab": {
     "background_save": true
    },
    "executionInfo": {
     "elapsed": 34,
     "status": "aborted",
     "timestamp": 1732216429547,
     "user": {
      "displayName": "Debbab hiba",
      "userId": "08091179925701170355"
     },
     "user_tz": -60
    },
    "id": "KI4EQODcO_FA"
   },
   "outputs": [
    {
     "data": {
      "text/plain": [
       "concrete_compressive_strength    1.000000\n",
       "cement                           0.497832\n",
       "superplasticizer                 0.366079\n",
       "age                              0.328873\n",
       "blast_furnace_slag               0.134829\n",
       "fly_ash                         -0.105755\n",
       "coarse_aggregate                -0.164935\n",
       "fine_aggregate                  -0.167241\n",
       "water                           -0.289633\n",
       "Name: concrete_compressive_strength, dtype: float64"
      ]
     },
     "execution_count": 9,
     "metadata": {},
     "output_type": "execute_result"
    }
   ],
   "source": [
    "corr_matrix = mydata.corr()\n",
    "corr_matrix[\"concrete_compressive_strength\"].sort_values(ascending=False)"
   ]
  },
  {
   "cell_type": "code",
   "execution_count": 14,
   "metadata": {
    "colab": {
     "background_save": true
    },
    "executionInfo": {
     "elapsed": 33,
     "status": "aborted",
     "timestamp": 1732216429547,
     "user": {
      "displayName": "Debbab hiba",
      "userId": "08091179925701170355"
     },
     "user_tz": -60
    },
    "id": "xesXkxy0mt8F"
   },
   "outputs": [],
   "source": [
    "import numpy as np\n",
    "def split_train_test(data, test_ratio):\n",
    "  shuffled_indices = np.random.permutation(len(data))\n",
    "  test_set_size = int(len(data) * test_ratio)\n",
    "  test_indices = shuffled_indices[:test_set_size]\n",
    "  train_indices = shuffled_indices[test_set_size:]\n",
    "  return data.iloc[train_indices], data.iloc[test_indices]"
   ]
  },
  {
   "cell_type": "code",
   "execution_count": null,
   "metadata": {
    "colab": {
     "background_save": true
    },
    "executionInfo": {
     "elapsed": 32,
     "status": "aborted",
     "timestamp": 1732216429547,
     "user": {
      "displayName": "Debbab hiba",
      "userId": "08091179925701170355"
     },
     "user_tz": -60
    },
    "id": "hK7BTsCfNS3X"
   },
   "outputs": [
    {
     "ename": "NameError",
     "evalue": "name 'train_test_split' is not defined",
     "output_type": "error",
     "traceback": [
      "\u001b[1;31m---------------------------------------------------------------------------\u001b[0m",
      "\u001b[1;31mNameError\u001b[0m                                 Traceback (most recent call last)",
      "Cell \u001b[1;32mIn[19], line 2\u001b[0m\n\u001b[0;32m      1\u001b[0m \u001b[38;5;66;03m# from sklearn.model_selection import train_test_split\u001b[39;00m\n\u001b[1;32m----> 2\u001b[0m train_set, test_set \u001b[38;5;241m=\u001b[39m \u001b[43mtrain_test_split\u001b[49m(mydata, test_size\u001b[38;5;241m=\u001b[39m\u001b[38;5;241m0.2\u001b[39m, random_state\u001b[38;5;241m=\u001b[39m\u001b[38;5;241m42\u001b[39m)\n",
      "\u001b[1;31mNameError\u001b[0m: name 'train_test_split' is not defined"
     ]
    }
   ],
   "source": [
    "# from sklearn.model_selection import train_test_split\n",
    "# train_set, test_set = train_test_split(mydata, test_size=0.2, random_state=42)"
   ]
  },
  {
   "cell_type": "code",
   "execution_count": 18,
   "metadata": {
    "colab": {
     "background_save": true
    },
    "executionInfo": {
     "elapsed": 33,
     "status": "aborted",
     "timestamp": 1732216429548,
     "user": {
      "displayName": "Debbab hiba",
      "userId": "08091179925701170355"
     },
     "user_tz": -60
    },
    "id": "nR-e6kllrZwY"
   },
   "outputs": [
    {
     "ename": "NameError",
     "evalue": "name 'train_set' is not defined",
     "output_type": "error",
     "traceback": [
      "\u001b[1;31m---------------------------------------------------------------------------\u001b[0m",
      "\u001b[1;31mNameError\u001b[0m                                 Traceback (most recent call last)",
      "Cell \u001b[1;32mIn[18], line 1\u001b[0m\n\u001b[1;32m----> 1\u001b[0m \u001b[38;5;28mprint\u001b[39m(\u001b[38;5;28mlen\u001b[39m(\u001b[43mtrain_set\u001b[49m))\n\u001b[0;32m      2\u001b[0m \u001b[38;5;28mprint\u001b[39m(\u001b[38;5;28mlen\u001b[39m(test_set))\n",
      "\u001b[1;31mNameError\u001b[0m: name 'train_set' is not defined"
     ]
    }
   ],
   "source": [
    "print(len(train_set))\n",
    "print(len(test_set))"
   ]
  },
  {
   "cell_type": "code",
   "execution_count": 20,
   "metadata": {
    "colab": {
     "background_save": true
    },
    "executionInfo": {
     "elapsed": 31,
     "status": "aborted",
     "timestamp": 1732216429548,
     "user": {
      "displayName": "Debbab hiba",
      "userId": "08091179925701170355"
     },
     "user_tz": -60
    },
    "id": "Ju8DfYhzrg3Y"
   },
   "outputs": [],
   "source": [
    "mydata[\"cement_c\"] = pd.cut(mydata[\"cement\"],\n",
    "                          bins=[0., 192.375, 272.9, 350.0, 450.0, np.inf],\n",
    "                          labels=[1, 2, 3, 4, 5])"
   ]
  },
  {
   "cell_type": "code",
   "execution_count": 21,
   "metadata": {
    "colab": {
     "background_save": true
    },
    "executionInfo": {
     "elapsed": 31,
     "status": "aborted",
     "timestamp": 1732216429548,
     "user": {
      "displayName": "Debbab hiba",
      "userId": "08091179925701170355"
     },
     "user_tz": -60
    },
    "id": "dRTFfVPMu3Xu"
   },
   "outputs": [
    {
     "data": {
      "text/plain": [
       "<Axes: >"
      ]
     },
     "execution_count": 21,
     "metadata": {},
     "output_type": "execute_result"
    },
    {
     "data": {
      "image/png": "[encoded data removed]",
      "text/plain": [
       "<Figure size 640x480 with 1 Axes>"
      ]
     },
     "metadata": {},
     "output_type": "display_data"
    }
   ],
   "source": [
    "\n",
    "mydata[\"cement_c\"].hist()"
   ]
  },
  {
   "cell_type": "code",
   "execution_count": 22,
   "metadata": {
    "colab": {
     "background_save": true
    },
    "executionInfo": {
     "elapsed": 31,
     "status": "aborted",
     "timestamp": 1732216429548,
     "user": {
      "displayName": "Debbab hiba",
      "userId": "08091179925701170355"
     },
     "user_tz": -60
    },
    "id": "D0VZSD03OXj3"
   },
   "outputs": [
    {
     "ename": "ModuleNotFoundError",
     "evalue": "No module named 'sklearn'",
     "output_type": "error",
     "traceback": [
      "\u001b[1;31m---------------------------------------------------------------------------\u001b[0m",
      "\u001b[1;31mModuleNotFoundError\u001b[0m                       Traceback (most recent call last)",
      "Cell \u001b[1;32mIn[22], line 1\u001b[0m\n\u001b[1;32m----> 1\u001b[0m \u001b[38;5;28;01mfrom\u001b[39;00m \u001b[38;5;21;01msklearn\u001b[39;00m\u001b[38;5;21;01m.\u001b[39;00m\u001b[38;5;21;01mmodel_selection\u001b[39;00m \u001b[38;5;28;01mimport\u001b[39;00m StratifiedShuffleSplit\n\u001b[0;32m      2\u001b[0m split \u001b[38;5;241m=\u001b[39m StratifiedShuffleSplit(n_splits\u001b[38;5;241m=\u001b[39m\u001b[38;5;241m1\u001b[39m, test_size\u001b[38;5;241m=\u001b[39m\u001b[38;5;241m0.2\u001b[39m,random_state\u001b[38;5;241m=\u001b[39m\u001b[38;5;241m22\u001b[39m)\n\u001b[0;32m      3\u001b[0m \u001b[38;5;28;01mfor\u001b[39;00m train_index, test_index \u001b[38;5;129;01min\u001b[39;00m split\u001b[38;5;241m.\u001b[39msplit(mydata,mydata[\u001b[38;5;124m\"\u001b[39m\u001b[38;5;124mcement_c\u001b[39m\u001b[38;5;124m\"\u001b[39m]):\n",
      "\u001b[1;31mModuleNotFoundError\u001b[0m: No module named 'sklearn'"
     ]
    }
   ],
   "source": [
    "from sklearn.model_selection import StratifiedShuffleSplit\n",
    "split = StratifiedShuffleSplit(n_splits=1, test_size=0.2,random_state=22)\n",
    "for train_index, test_index in split.split(mydata,mydata[\"cement_c\"]):\n",
    "      strat_train_set = mydata.loc[train_index]\n",
    "      strat_test_set = mydata.loc[test_index]\n",
    "\n",
    "\n",
    "print(strat_test_set['cement_c'].value_counts()/len(strat_test_set))\n",
    "print(strat_train_set['cement_c'].value_counts()/len(strat_train_set))"
   ]
  },
  {
   "cell_type": "code",
   "execution_count": null,
   "metadata": {
    "colab": {
     "background_save": true
    },
    "executionInfo": {
     "elapsed": 31,
     "status": "aborted",
     "timestamp": 1732216429548,
     "user": {
      "displayName": "Debbab hiba",
      "userId": "08091179925701170355"
     },
     "user_tz": -60
    },
    "id": "mTm2pcZRLgz0"
   },
   "outputs": [],
   "source": [
    "for set_ in (strat_train_set, strat_test_set):\n",
    "    set_.drop(\"cement_c\", axis=1, inplace=True)"
   ]
  },
  {
   "cell_type": "code",
   "execution_count": null,
   "metadata": {
    "colab": {
     "background_save": true
    },
    "executionInfo": {
     "elapsed": 30,
     "status": "aborted",
     "timestamp": 1732216429548,
     "user": {
      "displayName": "Debbab hiba",
      "userId": "08091179925701170355"
     },
     "user_tz": -60
    },
    "id": "oFNWEZY4MO78"
   },
   "outputs": [],
   "source": [
    "mydata = strat_train_set.copy()"
   ]
  },
  {
   "cell_type": "code",
   "execution_count": null,
   "metadata": {
    "colab": {
     "background_save": true
    },
    "executionInfo": {
     "elapsed": 31,
     "status": "aborted",
     "timestamp": 1732216429549,
     "user": {
      "displayName": "Debbab hiba",
      "userId": "08091179925701170355"
     },
     "user_tz": -60
    },
    "id": "lRhZoQ-4MPI5"
   },
   "outputs": [],
   "source": [
    "mydata.plot(kind=\"scatter\", x=\"cement\", y=\"concrete_compressive_strength\")"
   ]
  },
  {
   "cell_type": "code",
   "execution_count": null,
   "metadata": {
    "colab": {
     "background_save": true
    },
    "executionInfo": {
     "elapsed": 31,
     "status": "aborted",
     "timestamp": 1732216429549,
     "user": {
      "displayName": "Debbab hiba",
      "userId": "08091179925701170355"
     },
     "user_tz": -60
    },
    "id": "z-G5u4FcMPWA"
   },
   "outputs": [],
   "source": [
    "train_set.info()"
   ]
  },
  {
   "cell_type": "code",
   "execution_count": null,
   "metadata": {
    "colab": {
     "background_save": true
    },
    "executionInfo": {
     "elapsed": 31,
     "status": "aborted",
     "timestamp": 1732216429549,
     "user": {
      "displayName": "Debbab hiba",
      "userId": "08091179925701170355"
     },
     "user_tz": -60
    },
    "id": "Zdjh3fgtgbNn"
   },
   "outputs": [],
   "source": [
    "train_set.describe()"
   ]
  },
  {
   "cell_type": "code",
   "execution_count": null,
   "metadata": {
    "colab": {
     "background_save": true
    },
    "executionInfo": {
     "elapsed": 30,
     "status": "aborted",
     "timestamp": 1732216429549,
     "user": {
      "displayName": "Debbab hiba",
      "userId": "08091179925701170355"
     },
     "user_tz": -60
    },
    "id": "wNJOc4iPOgSI"
   },
   "outputs": [],
   "source": [
    "test_set.info()"
   ]
  },
  {
   "cell_type": "code",
   "execution_count": null,
   "metadata": {
    "colab": {
     "background_save": true
    },
    "executionInfo": {
     "elapsed": 30,
     "status": "aborted",
     "timestamp": 1732216429549,
     "user": {
      "displayName": "Debbab hiba",
      "userId": "08091179925701170355"
     },
     "user_tz": -60
    },
    "id": "k2941s18PzoY"
   },
   "outputs": [],
   "source": [
    "Input_data = train_set.drop(\"concrete_compressive_strength\", axis=1)\n",
    "data_labels = train_set[\"concrete_compressive_strength\"].copy()\n",
    "\n",
    "train_copy = train_set.copy()"
   ]
  },
  {
   "cell_type": "code",
   "execution_count": null,
   "metadata": {
    "colab": {
     "background_save": true
    },
    "executionInfo": {
     "elapsed": 30,
     "status": "aborted",
     "timestamp": 1732216429549,
     "user": {
      "displayName": "Debbab hiba",
      "userId": "08091179925701170355"
     },
     "user_tz": -60
    },
    "id": "yk490FQLPzwM"
   },
   "outputs": [],
   "source": [
    "train_set.plot(kind=\"scatter\", x=\"cement\", y=\"concrete_compressive_strength\", alpha=1)"
   ]
  },
  {
   "cell_type": "code",
   "execution_count": null,
   "metadata": {
    "colab": {
     "background_save": true
    },
    "executionInfo": {
     "elapsed": 30,
     "status": "aborted",
     "timestamp": 1732216429550,
     "user": {
      "displayName": "Debbab hiba",
      "userId": "08091179925701170355"
     },
     "user_tz": -60
    },
    "id": "TbkODrRUPz1D"
   },
   "outputs": [],
   "source": [
    "train_set.plot(kind=\"scatter\", x=\"cement\", y=\"concrete_compressive_strength\", alpha=0.1,\n",
    "            s=train_set[\"cement\"], label=\"Concrete Compressive Strength\",\n",
    "            figsize=(10, 7), c=\"concrete_compressive_strength\" ,\n",
    "            cmap=plt.get_cmap(\"jet\"), colorbar=True,)"
   ]
  },
  {
   "cell_type": "code",
   "execution_count": null,
   "metadata": {
    "colab": {
     "background_save": true
    },
    "executionInfo": {
     "elapsed": 30,
     "status": "aborted",
     "timestamp": 1732216429550,
     "user": {
      "displayName": "Debbab hiba",
      "userId": "08091179925701170355"
     },
     "user_tz": -60
    },
    "id": "LlSDmALyPz4S"
   },
   "outputs": [],
   "source": [
    "from pandas.plotting import scatter_matrix\n",
    "scatter_matrix(train_set, figsize=(12, 8))"
   ]
  },
  {
   "cell_type": "code",
   "execution_count": null,
   "metadata": {
    "colab": {
     "background_save": true
    },
    "executionInfo": {
     "elapsed": 30,
     "status": "aborted",
     "timestamp": 1732216429550,
     "user": {
      "displayName": "Debbab hiba",
      "userId": "08091179925701170355"
     },
     "user_tz": -60
    },
    "id": "LZYSjyPVXV79"
   },
   "outputs": [],
   "source": [
    "print(mydata.columns)\n"
   ]
  },
  {
   "cell_type": "code",
   "execution_count": null,
   "metadata": {
    "colab": {
     "background_save": true
    },
    "executionInfo": {
     "elapsed": 29,
     "status": "aborted",
     "timestamp": 1732216429550,
     "user": {
      "displayName": "Debbab hiba",
      "userId": "08091179925701170355"
     },
     "user_tz": -60
    },
    "id": "mA6C32hBc2HU"
   },
   "outputs": [],
   "source": [
    "\n",
    "mydata[\"water_to_cement_ratio\"] = mydata[\"water\"] /mydata[\"cement\"]\n",
    "mydata[\"fine_to_coarse_aggregate_ratio\"] = mydata[\"coarse_aggregate\"]+ mydata[\"fine_aggregate \"]\n",
    "mydata[\"cementitious_materials\"] = mydata[\"cement\"] + mydata[\"blast_furnace_slag\"] + mydata[\"fly_ash\"]\n",
    "corr_matrix = mydata.corr()\n",
    "corr_matrix[\"concrete_compressive_strength\"].sort_values(ascending=False)"
   ]
  },
  {
   "cell_type": "code",
   "execution_count": null,
   "metadata": {
    "colab": {
     "background_save": true
    },
    "executionInfo": {
     "elapsed": 28,
     "status": "aborted",
     "timestamp": 1732216429550,
     "user": {
      "displayName": "Debbab hiba",
      "userId": "08091179925701170355"
     },
     "user_tz": -60
    },
    "id": "_KPK8adEGZN_"
   },
   "outputs": [],
   "source": [
    "for set_ in (strat_train_set, strat_test_set):\n",
    "    set_.drop(\"water\", axis=1, inplace=True)\n",
    "    set_.drop(\"coarse_aggregate\", axis=1, inplace=True)\n",
    "    set_.drop(\"fine_aggregate \", axis=1, inplace=True)\n",
    "    set_.drop(\"cement\", axis=1, inplace=True)\n",
    "    set_.drop(\"blast_furnace_slag\", axis=1, inplace=True)\n",
    "    set_.drop(\"fly_ash\", axis=1, inplace=True)"
   ]
  },
  {
   "cell_type": "code",
   "execution_count": null,
   "metadata": {
    "colab": {
     "background_save": true
    },
    "executionInfo": {
     "elapsed": 29,
     "status": "aborted",
     "timestamp": 1732216429551,
     "user": {
      "displayName": "Debbab hiba",
      "userId": "08091179925701170355"
     },
     "user_tz": -60
    },
    "id": "Szi7k7f5Pz76"
   },
   "outputs": [],
   "source": [
    "from sklearn.preprocessing import StandardScaler as stc\n",
    "scaler = stc()\n",
    "p_set = scaler.fit_transform(train_set)\n",
    "prepared_set = pd.DataFrame(p_set, columns = train_set.columns)\n",
    "prepared_set.describe()"
   ]
  },
  {
   "cell_type": "code",
   "execution_count": null,
   "metadata": {
    "colab": {
     "background_save": true
    },
    "executionInfo": {
     "elapsed": 29,
     "status": "aborted",
     "timestamp": 1732216429551,
     "user": {
      "displayName": "Debbab hiba",
      "userId": "08091179925701170355"
     },
     "user_tz": -60
    },
    "id": "jeyOM1RnPz_v"
   },
   "outputs": [],
   "source": [
    "type(p_set)"
   ]
  },
  {
   "cell_type": "code",
   "execution_count": null,
   "metadata": {
    "colab": {
     "background_save": true
    },
    "executionInfo": {
     "elapsed": 28,
     "status": "aborted",
     "timestamp": 1732216429551,
     "user": {
      "displayName": "Debbab hiba",
      "userId": "08091179925701170355"
     },
     "user_tz": -60
    },
    "id": "B-6_qUy7w6Qv"
   },
   "outputs": [],
   "source": []
  },
  {
   "cell_type": "code",
   "execution_count": null,
   "metadata": {
    "colab": {
     "background_save": true
    },
    "executionInfo": {
     "elapsed": 28,
     "status": "aborted",
     "timestamp": 1732216429551,
     "user": {
      "displayName": "Debbab hiba",
      "userId": "08091179925701170355"
     },
     "user_tz": -60
    },
    "id": "yp1fOdhvCSiU"
   },
   "outputs": [],
   "source": []
  },
  {
   "cell_type": "code",
   "execution_count": null,
   "metadata": {
    "colab": {
     "background_save": true
    },
    "executionInfo": {
     "elapsed": 28,
     "status": "aborted",
     "timestamp": 1732216429551,
     "user": {
      "displayName": "Debbab hiba",
      "userId": "08091179925701170355"
     },
     "user_tz": -60
    },
    "id": "ufQge7V5P0J6"
   },
   "outputs": [],
   "source": [
    "from sklearn.linear_model import LinearRegression\n",
    "lin_reg = LinearRegression()\n",
    "\n",
    "\n",
    "lin_reg.fit(mydata , data_labels)"
   ]
  },
  {
   "cell_type": "code",
   "execution_count": null,
   "metadata": {
    "colab": {
     "background_save": true
    },
    "executionInfo": {
     "elapsed": 28,
     "status": "aborted",
     "timestamp": 1732216429551,
     "user": {
      "displayName": "Debbab hiba",
      "userId": "08091179925701170355"
     },
     "user_tz": -60
    },
    "id": "N7FytZavP0Na"
   },
   "outputs": [],
   "source": [
    "some_data = mydata.iloc[:10]\n",
    "some_labels = data_labels.iloc[:10]\n",
    "\n",
    "print(\"Predictions:\", lin_reg.predict(some_data))\n"
   ]
  },
  {
   "cell_type": "code",
   "execution_count": null,
   "metadata": {
    "colab": {
     "background_save": true
    },
    "executionInfo": {
     "elapsed": 28,
     "status": "aborted",
     "timestamp": 1732216429552,
     "user": {
      "displayName": "Debbab hiba",
      "userId": "08091179925701170355"
     },
     "user_tz": -60
    },
    "id": "z1k2WL7erGU1"
   },
   "outputs": [],
   "source": [
    "print(\"Labels:\", list(some_labels))"
   ]
  },
  {
   "cell_type": "code",
   "execution_count": null,
   "metadata": {
    "colab": {
     "background_save": true
    },
    "executionInfo": {
     "elapsed": 27,
     "status": "aborted",
     "timestamp": 1732216429552,
     "user": {
      "displayName": "Debbab hiba",
      "userId": "08091179925701170355"
     },
     "user_tz": -60
    },
    "id": "vtyktzCId7Q5"
   },
   "outputs": [],
   "source": [
    "from sklearn.metrics import mean_squared_error\n",
    "data_predictions = lin_reg.predict(mydata)\n",
    "lin_mse = mean_squared_error(data_labels, data_predictions)\n",
    "lin_rmse = np.sqrt(lin_mse)\n",
    "lin_rmse"
   ]
  },
  {
   "cell_type": "code",
   "execution_count": null,
   "metadata": {
    "colab": {
     "background_save": true
    },
    "executionInfo": {
     "elapsed": 27,
     "status": "aborted",
     "timestamp": 1732216429552,
     "user": {
      "displayName": "Debbab hiba",
      "userId": "08091179925701170355"
     },
     "user_tz": -60
    },
    "id": "vjFeHDQiehsu"
   },
   "outputs": [],
   "source": [
    "from sklearn.tree import DecisionTreeRegressor\n",
    "tree_reg = DecisionTreeRegressor()\n",
    "tree_reg.fit(mydata, data_labels)\n",
    "data_predictions = tree_reg.predict(mydata)\n",
    "tree_mse = mean_squared_error(data_labels, data_predictions)\n",
    "tree_rmse = np.sqrt(tree_mse)\n",
    "tree_rmse"
   ]
  },
  {
   "cell_type": "code",
   "execution_count": null,
   "metadata": {
    "colab": {
     "background_save": true
    },
    "executionInfo": {
     "elapsed": 27,
     "status": "aborted",
     "timestamp": 1732216429552,
     "user": {
      "displayName": "Debbab hiba",
      "userId": "08091179925701170355"
     },
     "user_tz": -60
    },
    "id": "6XUcJFlei2yE"
   },
   "outputs": [],
   "source": [
    "from sklearn.model_selection import cross_val_score\n",
    "scores = cross_val_score(tree_reg,mydata, data_labels, scoring=\"neg_mean_squared_error\", cv=10)\n",
    "tree_rmse_scores = np.sqrt(-scores)"
   ]
  },
  {
   "cell_type": "code",
   "execution_count": null,
   "metadata": {
    "colab": {
     "background_save": true
    },
    "executionInfo": {
     "elapsed": 26,
     "status": "aborted",
     "timestamp": 1732216429552,
     "user": {
      "displayName": "Debbab hiba",
      "userId": "08091179925701170355"
     },
     "user_tz": -60
    },
    "id": "wu3xQiWv_Uca"
   },
   "outputs": [],
   "source": [
    "def display_scores(scores):\n",
    "    print(\"Scores:\\n\", scores)\n",
    "    print(\"Mean:\\n\", scores.mean())\n",
    "    print(\"Standard deviation:\\n\", scores.std())\n",
    "\n",
    "display_scores(scores)"
   ]
  },
  {
   "cell_type": "code",
   "execution_count": null,
   "metadata": {
    "colab": {
     "background_save": true
    },
    "executionInfo": {
     "elapsed": 27,
     "status": "aborted",
     "timestamp": 1732216429553,
     "user": {
      "displayName": "Debbab hiba",
      "userId": "08091179925701170355"
     },
     "user_tz": -60
    },
    "id": "b2_kn5mvhT6K"
   },
   "outputs": [],
   "source": [
    "from sklearn.ensemble import RandomForestRegressor\n",
    "forest_reg = RandomForestRegressor()\n",
    "forest_reg.fit(mydata, data_labels)\n",
    "\n",
    "data_predictions = forest_reg.predict(mydata)\n",
    "\n",
    "forest_mse = mean_squared_error(data_labels, data_predictions)\n",
    "forest_rmse = np.sqrt(forest_mse)\n",
    "forest_rmse"
   ]
  },
  {
   "cell_type": "code",
   "execution_count": null,
   "metadata": {
    "colab": {
     "background_save": true
    },
    "executionInfo": {
     "elapsed": 27,
     "status": "aborted",
     "timestamp": 1732216429553,
     "user": {
      "displayName": "Debbab hiba",
      "userId": "08091179925701170355"
     },
     "user_tz": -60
    },
    "id": "e5Y2CaarAZyb"
   },
   "outputs": [],
   "source": [
    "scores = cross_val_score(forest_reg,mydata, data_labels, scoring=\"neg_mean_squared_error\", cv=10)\n",
    "forest_rmse_scores = np.sqrt(-scores)\n",
    "display_scores(scores)"
   ]
  }
 ],
 "metadata": {
  "colab": {
   "authorship_tag": "ABX9TyMr85rKQydvjd5gTZX7Uknt",
   "name": "",
   "version": ""
  },
  "kernelspec": {
   "display_name": "Python 3",
   "name": "python3"
  },
  "language_info": {
   "codemirror_mode": {
    "name": "ipython",
    "version": 3
   },
   "file_extension": ".py",
   "mimetype": "text/x-python",
   "name": "python",
   "nbconvert_exporter": "python",
   "pygments_lexer": "ipython3",
   "version": "3.12.7"
  }
 },
 "nbformat": 4,
 "nbformat_minor": 0
}
